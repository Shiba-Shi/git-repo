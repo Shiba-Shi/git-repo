{
  "nbformat": 4,
  "nbformat_minor": 0,
  "metadata": {
    "colab": {
      "provenance": [],
      "authorship_tag": "ABX9TyNA28UqgYjexN4UkDUevc3T",
      "include_colab_link": true
    },
    "kernelspec": {
      "name": "python3",
      "display_name": "Python 3"
    },
    "language_info": {
      "name": "python"
    }
  },
  "cells": [
    {
      "cell_type": "markdown",
      "metadata": {
        "id": "view-in-github",
        "colab_type": "text"
      },
      "source": [
        "<a href=\"https://colab.research.google.com/github/Shiba-Shi/git-repo/blob/main/PyHomework.ipynb\" target=\"_parent\"><img src=\"https://colab.research.google.com/assets/colab-badge.svg\" alt=\"Open In Colab\"/></a>"
      ]
    },
    {
      "cell_type": "code",
      "execution_count": null,
      "metadata": {
        "colab": {
          "base_uri": "https://localhost:8080/"
        },
        "id": "L5nQW6J0ulee",
        "outputId": "d7985f9b-240f-49dc-8f62-6295857e9e49"
      },
      "outputs": [
        {
          "output_type": "stream",
          "name": "stdout",
          "text": [
            "12\n"
          ]
        }
      ],
      "source": [
        "from numpy import FPE_INVALID\n",
        "from pandas.core.reshape import encoding\n",
        "#1-1\n",
        "\n",
        "# 引入Pandas\n",
        "import pandas as pd\n",
        "\n",
        "# 讀取csv檔案\n",
        "df = pd.read_csv('/content/edu_bigdata_imp1.csv', encoding='big5', low_memory=False)\n",
        "\n",
        "# 根據 'PseudoID' 為 39 過濾DataFrame\n",
        "df_filtered = df[df['PseudoID'] == 39]\n",
        "\n",
        "# 從過濾後的 DataFrame 中找到 'dp001_review_sn' 欄位的不重複值\n",
        "unique_values = df_filtered['dp001_review_sn'].unique()\n",
        "\n",
        "# 印出不重複的長度，即可得知39號學生看過幾部影片\n",
        "print(len(unique_values))"
      ]
    },
    {
      "cell_type": "code",
      "source": [
        "from numpy import FPE_INVALID\n",
        "from pandas.core.reshape import encoding\n",
        "#1-2\n",
        "\n",
        "# 引入Pandas\n",
        "import pandas as pd\n",
        "\n",
        "# 讀取csv檔案\n",
        "df = pd.read_csv('/content/edu_bigdata_imp1.csv', encoding='big5', low_memory=False)\n",
        "\n",
        "# 根據 'PseudoID' 為 39 過濾DataFrame\n",
        "df_filtered = df[df['PseudoID'] == 39]\n",
        "\n",
        "# 將 'dp001_question_sn' 為空值的資料拿掉\n",
        "df_filtered = df_filtered.dropna(subset=['dp001_question_sn'])\n",
        "\n",
        "# 從過濾後的 DataFrame 中找到 'dp001_question_sn' 欄位的不重複值\n",
        "unique_values = df_filtered['dp001_question_sn'].unique()\n",
        "\n",
        "# 印出不重複的長度，即可得知39號學生做過幾次測驗\n",
        "print(len(unique_values))"
      ],
      "metadata": {
        "colab": {
          "base_uri": "https://localhost:8080/"
        },
        "id": "iYu9DDIc11JS",
        "outputId": "c6f7946e-4a78-45e7-a8cc-708998bb58b9"
      },
      "execution_count": null,
      "outputs": [
        {
          "output_type": "stream",
          "name": "stdout",
          "text": [
            "3\n"
          ]
        }
      ]
    },
    {
      "cell_type": "code",
      "source": [
        "from numpy import FPE_INVALID\n",
        "from pandas.core.reshape import encoding\n",
        "#2-1\n",
        "\n",
        "# 引入Pandas\n",
        "import pandas as pd\n",
        "\n",
        "# 讀取csv檔案\n",
        "df = pd.read_csv('/content/edu_bigdata_imp1.csv', encoding='big5', low_memory=False)\n",
        "\n",
        "# 根據 'PseudoID' 為 281 過濾DataFrame\n",
        "df_filtered = df[df['PseudoID'] == 281]\n",
        "\n",
        "# 從過濾後的 DataFrame 中去除 'dp001_indicator' 欄位中圍空值的值\n",
        "df_filtered = df_filtered.dropna(subset=['dp001_indicator'])\n",
        "\n",
        "# 將重複值去除\n",
        "df_unique = df_filtered.drop_duplicates(subset=['dp001_video_item_sn'])\n",
        "\n",
        "# 印出不重複的值，即可得知281號學生看過的影片以及其對應的能力指標\n",
        "print(df_unique[['dp001_video_item_sn','dp001_indicator']])"
      ],
      "metadata": {
        "colab": {
          "base_uri": "https://localhost:8080/"
        },
        "id": "JzeXtQoZ5edG",
        "outputId": "da697be4-e7b3-4bf3-9144-595e5d0908b6"
      },
      "execution_count": null,
      "outputs": [
        {
          "output_type": "stream",
          "name": "stdout",
          "text": [
            "        dp001_video_item_sn dp001_indicator\n",
            "220121                513.0       111-3a-01\n",
            "220165              10044.0       111-3a-02\n",
            "220217               1087.0      5-n-10-S01\n"
          ]
        }
      ]
    },
    {
      "cell_type": "code",
      "source": [
        "from numpy import FPE_INVALID\n",
        "from pandas.core.reshape import encoding\n",
        "#2-2\n",
        "\n",
        "# 引入Pandas\n",
        "import pandas as pd\n",
        "\n",
        "# 讀取csv檔案\n",
        "df = pd.read_csv('/content/edu_bigdata_imp1.csv', encoding='big5', low_memory=False)\n",
        "\n",
        "# 根據 'PseudoID' 為 281 過濾DataFrame\n",
        "df_filtered = df[df['PseudoID'] == 281]\n",
        "\n",
        "# 根據 'dp001_prac_score_rate' 為 100 過濾DataFrame\n",
        "df_filtered = df_filtered[df_filtered['dp001_prac_score_rate'] == 100]\n",
        "#此處可以合在一起寫成 df_filtered = df[(df['PseudoID'] == 281) & (df['dp001_prac_score_rate'] == 100)]\n",
        "\n",
        "# 印出 281 號學生作答為 100 分的次數\n",
        "print(len(df_filtered))"
      ],
      "metadata": {
        "colab": {
          "base_uri": "https://localhost:8080/"
        },
        "id": "IpLsDZwypPS5",
        "outputId": "43a7469b-ff68-454f-fc83-730b900418cf"
      },
      "execution_count": null,
      "outputs": [
        {
          "output_type": "stream",
          "name": "stdout",
          "text": [
            "346\n"
          ]
        }
      ]
    },
    {
      "cell_type": "code",
      "source": [
        "from numpy import FPE_INVALID\n",
        "from pandas.core.reshape import encoding\n",
        "#3-1\n",
        "\n",
        "# 引入Pandas\n",
        "import pandas as pd\n",
        "\n",
        "# 讀取csv檔案\n",
        "df = pd.read_csv('/content/edu_bigdata_imp1.csv', encoding='big5', low_memory=False)\n",
        "\n",
        "# 根據 'PseudoID' 為 71 且 'dp001_record_plus_view_action' 為暫停的紀錄 過濾DataFrame\n",
        "df_filtered = df[(df['PseudoID'] == 71) & (df['dp001_record_plus_view_action'] == 'paused')]\n",
        "\n",
        "# 印出 71 號學生的暫停紀錄次數\n",
        "print(len(df_filtered))"
      ],
      "metadata": {
        "colab": {
          "base_uri": "https://localhost:8080/"
        },
        "id": "d3k1Fz4EtMWn",
        "outputId": "a02a2176-39cf-4ef4-8b5c-d593cd0da2c8"
      },
      "execution_count": null,
      "outputs": [
        {
          "output_type": "stream",
          "name": "stdout",
          "text": [
            "578\n"
          ]
        }
      ]
    },
    {
      "cell_type": "code",
      "source": [
        "from numpy import FPE_INVALID\n",
        "from pandas.core.reshape import encoding\n",
        "#3-2\n",
        "\n",
        "# 引入Pandas\n",
        "import pandas as pd\n",
        "\n",
        "# 讀取csv檔案\n",
        "df = pd.read_csv('/content/edu_bigdata_imp1.csv', encoding='big5', low_memory=False)\n",
        "\n",
        "# 根據 'PseudoID' 為 71 過濾DataFrame\n",
        "df_filtered = df[df['PseudoID'] == 71]\n",
        "\n",
        "# 從過濾後的 DataFrame 中去除 'dp001_review_start_time' 欄位中圍空值的值\n",
        "df_filtered = df_filtered.dropna(subset=['dp001_review_start_time'])\n",
        "\n",
        "# 從過濾過的 DataFrame 中將 'dp001_review_start_time' 欄位的字串轉為日期型別\n",
        "date = pd.to_datetime(df_filtered['dp001_review_start_time'])\n",
        "\n",
        "# 將日期型別的資料中取得日期部分\n",
        "s = date.dt.date\n",
        "\n",
        "# 將重複值刪除\n",
        "s_unique = s.unique()\n",
        "\n",
        "# 印出結果即為71號學生進入dp001平臺的日期\n",
        "print(s_unique)"
      ],
      "metadata": {
        "colab": {
          "base_uri": "https://localhost:8080/"
        },
        "id": "Rp5O69THDTzZ",
        "outputId": "a9167f38-f93d-44af-ec6f-14c67591a5a7"
      },
      "execution_count": null,
      "outputs": [
        {
          "output_type": "stream",
          "name": "stdout",
          "text": [
            "[datetime.date(2022, 8, 19) datetime.date(2022, 9, 16)\n",
            " datetime.date(2022, 8, 21)]\n"
          ]
        }
      ]
    },
    {
      "cell_type": "code",
      "source": [
        "from numpy import FPE_INVALID\n",
        "from pandas.core.reshape import encoding\n",
        "#4-1\n",
        "\n",
        "# 引入Pandas\n",
        "import pandas as pd\n",
        "\n",
        "# 讀取csv檔案\n",
        "df = pd.read_csv('/content/edu_bigdata_imp1.csv', encoding='big5', low_memory=False)\n",
        "\n",
        "# 過濾 'dp001_review_sn' 欄位中為空值的值\n",
        "df_filtered = df.dropna(subset=['dp001_review_sn'])\n",
        "\n",
        "# 計算 'dp001_review_sn' 中每個元素的數量\n",
        "s_value_counts = df_filtered['dp001_review_sn'].value_counts()\n",
        "\n",
        "# 印出dp001平台中撥放次數最多的影片序號\n",
        "print(s_value_counts.idxmax())"
      ],
      "metadata": {
        "colab": {
          "base_uri": "https://localhost:8080/"
        },
        "id": "fhuFdUOqU9sp",
        "outputId": "d381d50e-5a14-4081-d1a1-3c5db15af4e8"
      },
      "execution_count": null,
      "outputs": [
        {
          "output_type": "stream",
          "name": "stdout",
          "text": [
            "11043810.0\n"
          ]
        }
      ]
    },
    {
      "cell_type": "code",
      "source": [
        "from numpy import FPE_INVALID\n",
        "from pandas.core.reshape import encoding\n",
        "#4-2\n",
        "\n",
        "# 引入Pandas\n",
        "import pandas as pd\n",
        "\n",
        "# 讀取csv檔案\n",
        "df = pd.read_csv('/content/edu_bigdata_imp1.csv', encoding='big5', low_memory=False)\n",
        "\n",
        "# 過濾 'dp002_extensions_alignment' 欄位中為 [\"十二年國民基本教育類\"] 的資料\n",
        "df_filtered = df[df['dp002_extensions_alignment'] == '[\"十二年國民基本教育類\"]']\n",
        "\n",
        "# 從過濾後的資料計算 'dp002_extensions_alignment' 欄位中元素的數量\n",
        "s_value_counts = df_filtered['dp002_extensions_alignment'].value_counts()\n",
        "\n",
        "# 印出數量最大值即為 [\"十二年國民基本教育類\"] 的資料筆數\n",
        "print(s_value_counts.max())"
      ],
      "metadata": {
        "colab": {
          "base_uri": "https://localhost:8080/"
        },
        "id": "2QXO6UswtmTN",
        "outputId": "a633f2fd-aab2-445a-d4c1-c2f87eceede1"
      },
      "execution_count": null,
      "outputs": [
        {
          "output_type": "stream",
          "name": "stdout",
          "text": [
            "229\n"
          ]
        }
      ]
    },
    {
      "cell_type": "code",
      "source": [
        "from numpy import FPE_INVALID\n",
        "from pandas.core.reshape import encoding\n",
        "#4-3\n",
        "\n",
        "# 引入Pandas\n",
        "import pandas as pd\n",
        "\n",
        "# 讀取csv檔案\n",
        "df = pd.read_csv('/content/edu_bigdata_imp1.csv', encoding='big5', low_memory=False)\n",
        "\n",
        "# 計算 'dp002_verb_display_zh_TW' 欄位中元素出現的數量\n",
        "s_value_counts = df['dp002_verb_display_zh_TW'].value_counts()\n",
        "\n",
        "# 將操作行為名稱依照數量顯示前三多的元素\n",
        "print(s_value_counts.head(3))"
      ],
      "metadata": {
        "colab": {
          "base_uri": "https://localhost:8080/"
        },
        "id": "uVUSrjPq3tRk",
        "outputId": "1de455d3-f30c-421f-9f8c-17225c1f166e"
      },
      "execution_count": null,
      "outputs": [
        {
          "output_type": "stream",
          "name": "stdout",
          "text": [
            "查看      126766\n",
            "查詢參考      1564\n",
            "下載         497\n",
            "Name: dp002_verb_display_zh_TW, dtype: int64\n"
          ]
        }
      ]
    },
    {
      "cell_type": "code",
      "source": [
        "from numpy import FPE_INVALID\n",
        "from pandas.core.reshape import encoding\n",
        "#4-4\n",
        "\n",
        "# 引入Pandas\n",
        "import pandas as pd\n",
        "\n",
        "# 讀取csv檔案\n",
        "df = pd.read_csv('/content/edu_bigdata_imp1.csv', encoding='big5', low_memory=False)\n",
        "\n",
        "# 過濾 'dp002_extensions_alignment' 欄位中為 [\"校園職業安全\"] 的資料\n",
        "df_filtered = df[df['dp002_extensions_alignment'] == '[\"校園職業安全\"]']\n",
        "\n",
        "# 從過濾後的資料計算 'dp002_extensions_alignment' 欄位中元素的數量\n",
        "s_value_counts = df_filtered['dp002_extensions_alignment'].value_counts()\n",
        "\n",
        "# 印出數量最大值即為 [\"校園職業安全\"] 的資料筆數\n",
        "print(s_value_counts.max())"
      ],
      "metadata": {
        "colab": {
          "base_uri": "https://localhost:8080/"
        },
        "id": "0Kbj9dr4yX4A",
        "outputId": "202b25b8-5085-47dd-87eb-04f946cca665"
      },
      "execution_count": null,
      "outputs": [
        {
          "output_type": "stream",
          "name": "stdout",
          "text": [
            "5375\n"
          ]
        }
      ]
    }
  ]
}